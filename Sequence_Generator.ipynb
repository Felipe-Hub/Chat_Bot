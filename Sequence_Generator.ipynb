{
 "cells": [
  {
   "cell_type": "code",
   "execution_count": 1,
   "metadata": {},
   "outputs": [
    {
     "name": "stderr",
     "output_type": "stream",
     "text": [
      "Using TensorFlow backend.\n",
      "[nltk_data] Downloading package brown to /home/felipe/nltk_data...\n",
      "[nltk_data]   Package brown is already up-to-date!\n"
     ]
    },
    {
     "name": "stdout",
     "output_type": "stream",
     "text": [
      "potions: re, numpy as np, pandas as pd, pickle, json, nltk, keras, collections\n",
      "spells: clean_data, clean_entire, predict_tags, tagged_3D, tagged_n_grams, unknown_words_X, check_and_predict\n"
     ]
    }
   ],
   "source": [
    "from tensorflow.python.keras.preprocessing.text import Tokenizer\n",
    "from tensorflow.python.keras.preprocessing.sequence import pad_sequences\n",
    "from tensorflow.python.keras.models import load_model\n",
    "from random import randint, choice\n",
    "import heapq\n",
    "\n",
    "import sys\n",
    "sys.path.insert(1, '../utils')\n",
    "from NLP_little_helpers import *\n",
    "little_helpers()"
   ]
  },
  {
   "cell_type": "code",
   "execution_count": 2,
   "metadata": {},
   "outputs": [
    {
     "name": "stdout",
     "output_type": "stream",
     "text": [
      "WARNING:tensorflow:From /home/felipe/anaconda3/envs/data_sci/lib/python3.7/site-packages/tensorflow/python/ops/resource_variable_ops.py:435: colocate_with (from tensorflow.python.framework.ops) is deprecated and will be removed in a future version.\n",
      "Instructions for updating:\n",
      "Colocations handled automatically by placer.\n",
      "WARNING:tensorflow:From /home/felipe/anaconda3/envs/data_sci/lib/python3.7/site-packages/tensorflow/python/keras/backend.py:4010: calling dropout (from tensorflow.python.ops.nn_ops) with keep_prob is deprecated and will be removed in a future version.\n",
      "Instructions for updating:\n",
      "Please use `rate` instead of `keep_prob`. Rate should be set to `rate = 1 - keep_prob`.\n"
     ]
    }
   ],
   "source": [
    "with open('../Trained_Weights/hmm_model.pkl', 'rb') as file:\n",
    "    hmm_model = pickle.load(file)\n",
    "    \n",
    "with open('../Trained_Weights/tokenizer_text.pkl', 'rb') as file:\n",
    "    t_text = pickle.load(file)\n",
    "    \n",
    "with open('../Trained_Weights/tokenizer_tags.pkl', 'rb') as file:\n",
    "    t_tags = pickle.load(file)\n",
    "    \n",
    "seq2word = dict(map(reversed, t_text.word_index.items()))\n",
    "    \n",
    "model = load_model('../Trained_Weights/tagged_quotes.h5')"
   ]
  },
  {
   "cell_type": "code",
   "execution_count": 4,
   "metadata": {},
   "outputs": [],
   "source": [
    "def sample(preds, top_n=500):\n",
    "    preds = np.asarray(preds).astype('float64')\n",
    "    preds = np.log(preds)\n",
    "    exp_preds = np.exp(preds)\n",
    "    preds = exp_preds / np.sum(exp_preds)\n",
    "    return heapq.nlargest(top_n, range(len(preds)), preds.take)"
   ]
  },
  {
   "cell_type": "code",
   "execution_count": null,
   "metadata": {},
   "outputs": [],
   "source": []
  },
  {
   "cell_type": "code",
   "execution_count": 5,
   "metadata": {},
   "outputs": [
    {
     "name": "stdout",
     "output_type": "stream",
     "text": [
      "two  with is on of  for is with of  and for with in  and of to is\n"
     ]
    }
   ],
   "source": [
    "n = 5\n",
    "max_length = 100\n",
    "out_sentence = []\n",
    "out_word = ''\n",
    "original = []\n",
    "\n",
    "while len(out_sentence) < max_length:\n",
    "    #print(out_sentence)\n",
    "    if len(out_sentence) == 0:\n",
    "        \n",
    "        text = ['<bos>']\n",
    "        tags = ['<bos>']\n",
    "        \n",
    "    else:\n",
    "        text, tags = predict_tags(out_sentence[-1], hmm_model)\n",
    "        \n",
    "    enc_texts = pad_sequences(t_text.texts_to_sequences([text]), maxlen=n)\n",
    "    enc_tags = pad_sequences(t_tags.texts_to_sequences([tags]), maxlen=n)                             \n",
    "\n",
    "    # compute probabilities for each word\n",
    "    pred = model.predict([enc_texts, enc_tags])\n",
    "    y_hat = np.argmax(pred)\n",
    "    \n",
    "    if len(out_sentence) == 0:\n",
    "        y_hat = choice(sorted(enumerate(pred[0]),\n",
    "                       key=lambda x: x[1]\n",
    "                       )[-200:])[0]\n",
    "        \n",
    "        \n",
    "    while seq2word[y_hat] in out_sentence[-4:] or y_hat in [0,4]:\n",
    "        #y_hat = choice(sorted(enumerate(pred[0]),\n",
    "         #              key=lambda x: x[1]\n",
    "          #             )[-5:-1])[0]\n",
    "        \n",
    "        y_hat = choice(sample(pred[0])[:-490])\n",
    "        #original.append(seq2word[y_hat])\n",
    "        \n",
    "    out_word = seq2word[y_hat]\n",
    "    if out_word == '<eos>' and len(out_sentence) > 20:\n",
    "        break\n",
    "    else:    \n",
    "        out_sentence += [out_word]\n",
    "        \n",
    "    \n",
    "print(' '.join(out_sentence).replace('<eos>', ''))"
   ]
  },
  {
   "cell_type": "code",
   "execution_count": null,
   "metadata": {},
   "outputs": [],
   "source": [
    "seq2word[5]"
   ]
  },
  {
   "cell_type": "code",
   "execution_count": null,
   "metadata": {},
   "outputs": [],
   "source": [
    "original"
   ]
  },
  {
   "cell_type": "code",
   "execution_count": null,
   "metadata": {},
   "outputs": [],
   "source": []
  }
 ],
 "metadata": {
  "kernelspec": {
   "display_name": "Python 3",
   "language": "python",
   "name": "python3"
  },
  "language_info": {
   "codemirror_mode": {
    "name": "ipython",
    "version": 3
   },
   "file_extension": ".py",
   "mimetype": "text/x-python",
   "name": "python",
   "nbconvert_exporter": "python",
   "pygments_lexer": "ipython3",
   "version": "3.8.5"
  }
 },
 "nbformat": 4,
 "nbformat_minor": 4
}
