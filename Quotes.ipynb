{
 "cells": [
  {
   "cell_type": "code",
   "execution_count": 1,
   "metadata": {},
   "outputs": [
    {
     "name": "stdout",
     "output_type": "stream",
     "text": [
      "['/job:localhost/replica:0/task:0/device:GPU:0']\n",
      "[name: \"/device:CPU:0\"\n",
      "device_type: \"CPU\"\n",
      "memory_limit: 268435456\n",
      "locality {\n",
      "}\n",
      "incarnation: 9412634936651725809\n",
      ", name: \"/device:XLA_CPU:0\"\n",
      "device_type: \"XLA_CPU\"\n",
      "memory_limit: 17179869184\n",
      "locality {\n",
      "}\n",
      "incarnation: 5777642571052947384\n",
      "physical_device_desc: \"device: XLA_CPU device\"\n",
      ", name: \"/device:GPU:0\"\n",
      "device_type: \"GPU\"\n",
      "memory_limit: 5585698816\n",
      "locality {\n",
      "  bus_id: 1\n",
      "  links {\n",
      "  }\n",
      "}\n",
      "incarnation: 13820371412501970788\n",
      "physical_device_desc: \"device: 0, name: GeForce RTX 2060, pci bus id: 0000:01:00.0, compute capability: 7.5\"\n",
      ", name: \"/device:XLA_GPU:0\"\n",
      "device_type: \"XLA_GPU\"\n",
      "memory_limit: 17179869184\n",
      "locality {\n",
      "}\n",
      "incarnation: 9390204954244366933\n",
      "physical_device_desc: \"device: XLA_GPU device\"\n",
      "]\n"
     ]
    }
   ],
   "source": [
    "from tensorflow.python import keras\n",
    "keras.backend.clear_session()\n",
    "\n",
    "import tensorflow as tf\n",
    "config = tf.ConfigProto(log_device_placement=True)\n",
    "config.gpu_options.allow_growth = True\n",
    "session = tf.Session(config=config)\n",
    "\n",
    "from tensorflow.python.keras import backend\n",
    "backend.set_session(session)\n",
    "print(backend._get_available_gpus())\n",
    "\n",
    "from tensorflow.python.client import device_lib\n",
    "print(device_lib.list_local_devices())\n"
   ]
  },
  {
   "cell_type": "code",
   "execution_count": 2,
   "metadata": {},
   "outputs": [
    {
     "name": "stderr",
     "output_type": "stream",
     "text": [
      "Using TensorFlow backend.\n",
      "[nltk_data] Downloading package brown to /home/felipe/nltk_data...\n",
      "[nltk_data]   Package brown is already up-to-date!\n"
     ]
    },
    {
     "name": "stdout",
     "output_type": "stream",
     "text": [
      "potions: re, numpy as np, pandas as pd, pickle, json, nltk, keras, collections\n",
      "spells: clean_data, clean_entire, predict_tags, tagged_3D, tagged_n_grams, unknown_words_X, check_and_predict\n"
     ]
    }
   ],
   "source": [
    "import pickle\n",
    "import re\n",
    "\n",
    "\n",
    "import sys\n",
    "sys.path.insert(1, '../utils')\n",
    "from NLP_little_helpers import *\n",
    "little_helpers()"
   ]
  },
  {
   "cell_type": "code",
   "execution_count": 3,
   "metadata": {},
   "outputs": [],
   "source": [
    "with open('quotesdrivedb.txt', 'r') as file:\n",
    "    quotes = file.read()"
   ]
  },
  {
   "cell_type": "code",
   "execution_count": 4,
   "metadata": {},
   "outputs": [],
   "source": [
    "quotes_sep = quotes.split(',,,,,,,,,,,,,,,,,,,,,,,,,,,,,,,,,,,,,,,')\n",
    "\n",
    "corpus = [clean_entire(quote.split('.,')[0].replace('.', ',')) if '.,' in quote\n",
    "          else clean_entire(quote.split('.\"')[0].replace('.', ','))\n",
    "          for quote in quotes_sep]\n",
    "\n",
    "#clean_corpus = [clean_entire(re.findall('\"(.*?)\"', quote)[0])\n",
    "#                for quote in corpus if len(re.findall('\"(.*?)\"', quote)) > 0]"
   ]
  },
  {
   "cell_type": "code",
   "execution_count": 5,
   "metadata": {},
   "outputs": [
    {
     "data": {
      "text/plain": [
       "['i am selfish , impatient and a little insecure , i make mistakes , i am out of control and at times hard to handle , but if you cannot handle me at my worst , then you sure as hell do not deserve me at my best',\n",
       " 'you have gotta dance like there is nobody watching , love like you will never be hurt , sing like there is nobody listening , and live like it is heaven on earth',\n",
       " 'you know you are in love when you cannot fall asleep because reality is finally better than your dreams',\n",
       " 'a friend is someone who knows all about you and still loves you',\n",
       " 'darkness cannot drive out darkness only light can do that , hate cannot drive out hate only love can do that']"
      ]
     },
     "execution_count": 5,
     "metadata": {},
     "output_type": "execute_result"
    }
   ],
   "source": [
    "clean_corpus = [t for text in corpus for t in text if len(t) > 10]\n",
    "clean_corpus[:5]"
   ]
  },
  {
   "cell_type": "code",
   "execution_count": 7,
   "metadata": {},
   "outputs": [],
   "source": [
    "#with open('../Data/quotes_clean.pkl', 'wb') as outfile:\n",
    "#    pickle.dump(clean_corpus, outfile)    "
   ]
  },
  {
   "cell_type": "code",
   "execution_count": 6,
   "metadata": {},
   "outputs": [],
   "source": [
    "with open('../Trained_Weights/hmm_model.pkl', 'rb') as file:\n",
    "    hmm_model = pickle.load(file)\n",
    "    \n",
    "viterbis_dict = [predict_tags(text, hmm_model) for text in clean_corpus]\n",
    "\n",
    "with open('../Data/quotes_tagged.json', 'w') as outfile:\n",
    "    json.dump(viterbis_dict, outfile)    "
   ]
  },
  {
   "cell_type": "code",
   "execution_count": null,
   "metadata": {},
   "outputs": [],
   "source": []
  }
 ],
 "metadata": {
  "kernelspec": {
   "display_name": "Python 3",
   "language": "python",
   "name": "python3"
  },
  "language_info": {
   "codemirror_mode": {
    "name": "ipython",
    "version": 3
   },
   "file_extension": ".py",
   "mimetype": "text/x-python",
   "name": "python",
   "nbconvert_exporter": "python",
   "pygments_lexer": "ipython3",
   "version": "3.7.7"
  }
 },
 "nbformat": 4,
 "nbformat_minor": 4
}
